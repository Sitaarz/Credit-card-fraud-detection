{
 "cells": [
  {
   "cell_type": "code",
   "execution_count": null,
   "id": "initial_id",
   "metadata": {
    "collapsed": true
   },
   "outputs": [],
   "source": [
    "import pandas as pd\n",
    "from matplotlib import pyplot as plt\n",
    "import seaborn as sns\n"
   ]
  },
  {
   "cell_type": "code",
   "execution_count": null,
   "outputs": [],
   "source": [
    "df = pd.read_csv('./creditcard.csv')\n",
    "df.head()"
   ],
   "metadata": {
    "collapsed": false
   },
   "id": "f200d110521490f8"
  },
  {
   "cell_type": "code",
   "execution_count": null,
   "outputs": [],
   "source": [
    "df.info()"
   ],
   "metadata": {
    "collapsed": false
   },
   "id": "4fe839abafca7552"
  },
  {
   "cell_type": "code",
   "execution_count": null,
   "outputs": [],
   "source": [
    "df.describe()"
   ],
   "metadata": {
    "collapsed": false
   },
   "id": "431be4c5b9a9da8c"
  },
  {
   "cell_type": "code",
   "execution_count": null,
   "outputs": [],
   "source": [
    "number_of_null_values = df.isnull().sum().sum()\n",
    "number_of_nan_values = df.isna().sum().sum()\n",
    "\n",
    "print(f'NaN count: {number_of_nan_values}\\nNull count: {number_of_null_values}')"
   ],
   "metadata": {
    "collapsed": false
   },
   "id": "c0b2fcc340322e11"
  },
  {
   "cell_type": "code",
   "execution_count": null,
   "outputs": [],
   "source": [
    "sns.set_style(\"whitegrid\")\n",
    "sns.countplot(data=df, x='Class', stat='percent')\n",
    "plt.savefig('class_count')"
   ],
   "metadata": {
    "collapsed": false
   },
   "id": "e6be0dd9b03d793d"
  },
  {
   "cell_type": "code",
   "execution_count": null,
   "outputs": [],
   "source": [
    "from sklearn.model_selection import train_test_split\n",
    "from sklearn.preprocessing import StandardScaler\n",
    "\n",
    "std_scaler = StandardScaler(copy=False)\n",
    "\n",
    "X = df[df.columns[:-1]].values\n",
    "y = df['Class'].values\n",
    "\n",
    "std_scaler.fit_transform(X)\n",
    "\n",
    "X_train, X_test, y_train, y_test = train_test_split(X, y, test_size=0.2)"
   ],
   "metadata": {
    "collapsed": false
   },
   "id": "1ffc9dda5b983ea5"
  },
  {
   "cell_type": "code",
   "execution_count": null,
   "outputs": [],
   "source": [
    "from sklearn.linear_model import LogisticRegression\n",
    "weights = {0:1, 1:10}\n",
    "weighted_log_reg = LogisticRegression(class_weight=weights)\n",
    "\n",
    "weighted_log_reg.fit(X_train,y_train)\n"
   ],
   "metadata": {
    "collapsed": false
   },
   "id": "13135d2b5dda8f13"
  },
  {
   "cell_type": "code",
   "execution_count": null,
   "outputs": [],
   "source": [
    "from sklearn.metrics import ConfusionMatrixDisplay, confusion_matrix\n",
    "y_predicted = weighted_log_reg.predict(X_train)\n",
    "conf_matrix = confusion_matrix(y_true=y_train, y_pred=y_predicted, labels=weighted_log_reg.classes_)\n",
    "sns.heatmap(conf_matrix/len(y_predicted), cmap='coolwarm', annot=True, fmt='0.2%', linewidths=1)\n",
    "plt.savefig('corelation_matrix_before_grid_search')"
   ],
   "metadata": {
    "collapsed": false
   },
   "id": "8a097f8ea4979ba"
  },
  {
   "cell_type": "code",
   "execution_count": null,
   "outputs": [],
   "source": [
    "from sklearn.model_selection import cross_val_score\n",
    "F1_score_before_grid_search = cross_val_score(estimator=weighted_log_reg, X=X_train, y=y_train, scoring='f1', cv=3, n_jobs=-1 )\n",
    "recall_score_before_grid_search = cross_val_score(estimator=weighted_log_reg, X=X_train, y=y_train, scoring='recall', cv=3, n_jobs=-1 )\n",
    "print(f\"\"\"F1_score_before_grid_search: {F1_score_before_grid_search}    average: {sum(F1_score_before_grid_search)/3}\n",
    "recall_score_before_grid_search: {recall_score_before_grid_search}    average: {sum(recall_score_before_grid_search)/3}\"\"\")"
   ],
   "metadata": {
    "collapsed": false
   },
   "id": "fd98123c3ffbe46e"
  },
  {
   "cell_type": "code",
   "execution_count": null,
   "outputs": [],
   "source": [
    "weighted_log_reg.get_params()"
   ],
   "metadata": {
    "collapsed": false
   },
   "id": "5983859cb9b055b2"
  },
  {
   "cell_type": "code",
   "execution_count": null,
   "outputs": [],
   "source": [
    "from sklearn.model_selection import GridSearchCV\n",
    "import numpy as np\n",
    "\n",
    "param_grid = {'class_weight': [{0:1, 1: weight} for weight in np.linspace(1,100,500)] }\n",
    "grid_cv = 3\n",
    "n_jobs = -1\n",
    "scoring = 'f1'\n",
    "\n",
    "grid_search = GridSearchCV(estimator=LogisticRegression(), param_grid=param_grid, n_jobs=n_jobs, scoring=scoring, cv=grid_cv)\n",
    "grid_search.fit(X_train, y_train)"
   ],
   "metadata": {
    "collapsed": false
   },
   "id": "5e37d23b24688553"
  },
  {
   "cell_type": "code",
   "execution_count": null,
   "outputs": [],
   "source": [
    "best_estimator = grid_search.best_estimator_\n",
    "\n",
    "f1_after_grid_search = sum( cross_val_score(X = X_train, y = y_train,estimator=best_estimator, scoring='f1') ) / 5\n",
    "recall_after_grid_search = sum( cross_val_score(X = X_train, y = y_train,estimator=best_estimator, scoring='recall') ) / 5\n",
    "\n",
    "print(f\"\"\"f1_after_grid_search: {f1_after_grid_search}\n",
    "recal_after_grid_search: {recall_after_grid_search}\"\"\")"
   ],
   "metadata": {
    "collapsed": false
   },
   "id": "f779c0deba6ea25c"
  },
  {
   "cell_type": "code",
   "execution_count": null,
   "outputs": [],
   "source": [
    "f1_test = sum( cross_val_score(X = X_test, y = y_test,estimator=best_estimator, scoring='f1') ) / 5\n",
    "recall_test = sum( cross_val_score(X = X_test, y = y_test,estimator=best_estimator, scoring='recall') ) / 5\n",
    "\n",
    "print(f\"\"\"f1_test: {f1_test}\n",
    "recall_test: {recall_test}\"\"\")"
   ],
   "metadata": {
    "collapsed": false
   },
   "id": "bf3c3d8192cc0915"
  }
 ],
 "metadata": {
  "kernelspec": {
   "display_name": "Python 3",
   "language": "python",
   "name": "python3"
  },
  "language_info": {
   "codemirror_mode": {
    "name": "ipython",
    "version": 2
   },
   "file_extension": ".py",
   "mimetype": "text/x-python",
   "name": "python",
   "nbconvert_exporter": "python",
   "pygments_lexer": "ipython2",
   "version": "2.7.6"
  }
 },
 "nbformat": 4,
 "nbformat_minor": 5
}
